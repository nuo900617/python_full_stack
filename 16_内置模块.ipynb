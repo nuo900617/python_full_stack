{
 "cells": [
  {
   "attachments": {},
   "cell_type": "markdown",
   "metadata": {},
   "source": [
    "# configparser\n",
    "\n",
    "## ini文件\n",
    "[server]\n",
    "v1 = 123\n",
    "v2 = 999\n",
    "\n",
    "[client]\n",
    "xxx = 999"
   ]
  },
  {
   "cell_type": "code",
   "execution_count": null,
   "metadata": {},
   "outputs": [],
   "source": [
    "import os\n",
    "import configparser\n",
    "\n",
    "base_dir = os.path.dirname(os.path.abspath(__file__))\n",
    "file_path = os.path.join(base_dir, 'my.ini')\n",
    "\n",
    "config = configparser.ConfigParser()\n",
    "config.read(file_path, encoding='utf-8')\n",
    "\n",
    "# 获取所有节点\n",
    "v1 = config.sections()\n",
    "print(v1)  # ['server', 'client']\n",
    "\n",
    "# 获取节点下的键值\n",
    "v2 = config.items('server')\n",
    "for k, v in v2:\n",
    "    print(k, v)\n",
    "    \n",
    "# 节点下某个键对应的值\n",
    "v3 = config.get('server', 'v1')\n",
    "\n",
    "# 检查是否存在某个节点\n",
    "config.has_section('server')\n",
    "\n",
    "# 添加节点\n",
    "config.add_section('group')\n",
    "config.set('group', 'name', '张三')\n",
    "\n",
    "# 删除节点\n",
    "config.remove_section('server')\n",
    "# 删除键值\n",
    "config.remove_option('server', 'v2')\n",
    "\n",
    "with open('xxx.ini', model='w', encoding='utf-8'):\n",
    "    config.write(f)\n",
    "    \n",
    "    \n",
    "    \n"
   ]
  },
  {
   "attachments": {},
   "cell_type": "markdown",
   "metadata": {},
   "source": [
    "# xml"
   ]
  },
  {
   "cell_type": "code",
   "execution_count": null,
   "metadata": {},
   "outputs": [],
   "source": [
    "from xml.etree import ElementTree\n",
    "\n",
    "text = \"\"\"\n",
    "<info>\n",
    "    <name>张三</name>\n",
    "    <age>99</age>\n",
    "    <email>www@123.com</email>\n",
    "</info>\n",
    "\"\"\"\n",
    "\n",
    "root = ElementTree.XML(text)\n",
    "\n",
    "node = root.find(\"name\")\n",
    "print(node.tag, node.attrib)\n",
    "\n",
    "nodes = root.findall(\"name\")\n"
   ]
  }
 ],
 "metadata": {
  "kernelspec": {
   "display_name": "base",
   "language": "python",
   "name": "python3"
  },
  "language_info": {
   "codemirror_mode": {
    "name": "ipython",
    "version": 3
   },
   "file_extension": ".py",
   "mimetype": "text/x-python",
   "name": "python",
   "nbconvert_exporter": "python",
   "pygments_lexer": "ipython3",
   "version": "3.8.5"
  },
  "orig_nbformat": 4,
  "vscode": {
   "interpreter": {
    "hash": "8fcbf216df88cf838eaa28c21976e01ea29b871b319ac777d141b1dab9ab1591"
   }
  }
 },
 "nbformat": 4,
 "nbformat_minor": 2
}
