{
 "cells": [
  {
   "attachments": {},
   "cell_type": "markdown",
   "metadata": {},
   "source": [
    "# 变量"
   ]
  },
  {
   "cell_type": "code",
   "execution_count": 2,
   "metadata": {},
   "outputs": [
    {
     "name": "stdout",
     "output_type": "stream",
     "text": [
      "上海\n"
     ]
    }
   ],
   "source": [
    "class Info:\n",
    "    \n",
    "    # 静态变量，类变量\n",
    "    city = '上海'\n",
    "    \n",
    "    def __init__(self, name) -> None:\n",
    "        # 实例变量\n",
    "        self.name = name\n",
    "        \n",
    "    def send(self):\n",
    "        pass\n",
    "    \n",
    "print(Info.city)"
   ]
  },
  {
   "attachments": {},
   "cell_type": "markdown",
   "metadata": {},
   "source": [
    "# 方法"
   ]
  },
  {
   "cell_type": "code",
   "execution_count": null,
   "metadata": {},
   "outputs": [],
   "source": [
    "class Info:\n",
    "    \n",
    "    # 静态变量，类变量\n",
    "    city = '上海'\n",
    "    \n",
    "    def __init__(self, name) -> None:\n",
    "        # 实例变量\n",
    "        self.name = name\n",
    "    \n",
    "    # 绑定方法\n",
    "    def send(self):\n",
    "        pass\n",
    "    \n",
    "    # 静态方法\n",
    "    @staticmethod\n",
    "    def get_data():\n",
    "        pass "
   ]
  },
  {
   "attachments": {},
   "cell_type": "markdown",
   "metadata": {},
   "source": [
    "## 绑定方法和静态方法区别\n",
    "1. 绑定方法\n",
    "- self\n",
    "- 先创建对象，再由对象触发执行\n",
    "    - obj=Info()\n",
    "    - obj.send()\n",
    "2. 静态方法\n",
    "- 可以有任意个参数\n",
    "- @staticmethod\n",
    "- 不需要创建对象，通过类直接调用执行，Info.get_data()\n",
    "- 对象也能触发执行\n",
    "    - obj=Info()\n",
    "    - obj.get_data()\n",
    "## 应用场景\n",
    "如果定义的方法中，不需要封装的值"
   ]
  },
  {
   "attachments": {},
   "cell_type": "markdown",
   "metadata": {},
   "source": [
    "## classmethod"
   ]
  },
  {
   "cell_type": "code",
   "execution_count": null,
   "metadata": {},
   "outputs": [],
   "source": [
    "class Info:\n",
    "    \n",
    "    # 静态变量，类变量\n",
    "    city = '上海'\n",
    "    \n",
    "    def __init__(self, name) -> None:\n",
    "        # 实例变量\n",
    "        self.name = name\n",
    "    \n",
    "    # 绑定方法\n",
    "    def send(self):\n",
    "        pass\n",
    "    \n",
    "    # 静态方法\n",
    "    @staticmethod\n",
    "    def get_data():\n",
    "        pass \n",
    "    \n",
    "    @classmethod\n",
    "    def fetch(cls, a1):\n",
    "        pass"
   ]
  },
  {
   "attachments": {},
   "cell_type": "markdown",
   "metadata": {},
   "source": [
    "## 类方法\n",
    "- 至少有一个cls参数\n",
    "- 可以通过类执行，Info.fetch(12) -> cls类名\n",
    "- 对象也可以触发执行\n",
    "如果方法中需要用到类名，则使用类方法"
   ]
  },
  {
   "attachments": {},
   "cell_type": "markdown",
   "metadata": {},
   "source": [
    "# 属性\n",
    "- @property\n",
    "    - 在调用时，不需要加括号，直接obj.d1即可\n",
    "- @d1.setter\n",
    "    - 修改实例变量值\n",
    "    - 调用 obj.d1 = 10\n",
    "- @d1.deleter\n",
    "    - 删除实例变量\n"
   ]
  },
  {
   "cell_type": "code",
   "execution_count": 9,
   "metadata": {},
   "outputs": [
    {
     "name": "stdout",
     "output_type": "stream",
     "text": [
      "123\n",
      "10\n",
      "123\n"
     ]
    }
   ],
   "source": [
    "\n",
    "class Info:\n",
    "    \n",
    "    @property\n",
    "    def d1(self):\n",
    "        return 123\n",
    "    \n",
    "    @d1.setter\n",
    "    def d1(self, value):\n",
    "        self.age = value\n",
    "    \n",
    "    @d1.deleter\n",
    "    def d1(self):\n",
    "        pass\n",
    "    \n",
    "obj = Info()\n",
    "print(obj.d1)\n",
    "obj.d1 = 10\n",
    "print(obj.age)\n",
    "del obj.d1\n",
    "print(obj.d1)"
   ]
  },
  {
   "cell_type": "code",
   "execution_count": null,
   "metadata": {},
   "outputs": [],
   "source": [
    "# property的另一种写法\n",
    "\n",
    "class Foo:\n",
    "    def __init__(self) -> None:\n",
    "        pass \n",
    "    \n",
    "    def getx(self):\n",
    "        return 123\n",
    "    \n",
    "    def setx(self, value):\n",
    "        pass \n",
    "    \n",
    "    def delx(self):\n",
    "        pass \n",
    "    \n",
    "    x = property(getx, setx, delx)\n",
    "    \n",
    "obj = Foo()\n",
    "obj.x # getx()\n",
    "obj.x = 10  # setx(10)\n",
    "del obj.x  # delx()"
   ]
  },
  {
   "attachments": {},
   "cell_type": "markdown",
   "metadata": {},
   "source": [
    "# 特殊成员\n",
    "- __new__ 构造方法"
   ]
  },
  {
   "cell_type": "code",
   "execution_count": 11,
   "metadata": {},
   "outputs": [],
   "source": [
    "class Foo:\n",
    "    def __init__(self) -> None:\n",
    "        pass \n",
    "    \n",
    "    def __new__(self, *args, **kwargs):\n",
    "        obj = object.__new__(self)\n",
    "        return obj\n",
    "\n",
    "obj = Foo()"
   ]
  },
  {
   "attachments": {},
   "cell_type": "markdown",
   "metadata": {},
   "source": [
    "- __call__ \n",
    "    - 对象后加括号执行此方法\n",
    "    - obj = Foo('aaa')\n",
    "    - obj()"
   ]
  },
  {
   "cell_type": "code",
   "execution_count": 22,
   "metadata": {},
   "outputs": [
    {
     "name": "stdout",
     "output_type": "stream",
     "text": [
      "aaa\n",
      "111\n",
      "None\n",
      "{'name': 'aaa'}\n",
      "{'__module__': '__main__', '__init__': <function Foo.__init__ at 0x00000271E79E0DC0>, '__call__': <function Foo.__call__ at 0x00000271E94C4EE0>, '__str__': <function Foo.__str__ at 0x00000271E94C4550>, '__dict__': <attribute '__dict__' of 'Foo' objects>, '__weakref__': <attribute '__weakref__' of 'Foo' objects>, '__doc__': None}\n",
      "qwe\n"
     ]
    }
   ],
   "source": [
    "class Foo:\n",
    "    def __init__(self, name) -> None:\n",
    "        self.name = name\n",
    "        \n",
    "    def __call__(self, *args, **kwds):\n",
    "        print('111')\n",
    "    \n",
    "    def __str__(self) -> str:\n",
    "        return 'qwe'\n",
    "    \n",
    "obj = Foo('aaa')\n",
    "print(obj.name)\n",
    "    \n",
    "print(obj())\n",
    "print(obj.__dict__)\n",
    "print(Foo.__dict__)\n",
    "print(obj)"
   ]
  },
  {
   "attachments": {},
   "cell_type": "markdown",
   "metadata": {},
   "source": [
    "- __dict__ 查看类中封装的成员\n",
    "- __str__ 可以直接print(类名), 当一个对象输出是字符串时，不一定是字符串类型，可能是class\n",
    "- __getitem__, __setitem__, __delitem__: 支持直接下标取值"
   ]
  },
  {
   "cell_type": "code",
   "execution_count": 29,
   "metadata": {},
   "outputs": [
    {
     "name": "stdout",
     "output_type": "stream",
     "text": [
      "上海\n",
      "999\n",
      "2 ('李四', 15)\n",
      "0\n"
     ]
    }
   ],
   "source": [
    "v1 = list(['上海', '青海', '北京'])\n",
    "print(v1[0])\n",
    "\n",
    "class Foo:\n",
    "    def __init__(self, name, age) -> None:\n",
    "        self.name = name\n",
    "        self.age = age \n",
    "        \n",
    "    def __getitem__(self, item):\n",
    "        return 999\n",
    "    \n",
    "    def __setitem__(self, key, value):\n",
    "        print(key, value)\n",
    "    \n",
    "    def __delitem__(self, key):\n",
    "        print(key)\n",
    "        \n",
    "obj = Foo('张三', 12)\n",
    "print(obj[0])\n",
    "obj[2]=('李四', 15)\n",
    "del obj[0]\n"
   ]
  },
  {
   "attachments": {},
   "cell_type": "markdown",
   "metadata": {},
   "source": [
    "- __enter__, __exit__: with  ** as ** 的实现方式"
   ]
  },
  {
   "cell_type": "code",
   "execution_count": 37,
   "metadata": {},
   "outputs": [
    {
     "name": "stdout",
     "output_type": "stream",
     "text": [
      "begin\n",
      "123\n",
      "over\n"
     ]
    }
   ],
   "source": [
    "\n",
    "class Foo:\n",
    "    def __init__(self, name, age) -> None:\n",
    "        self.name = name\n",
    "        self.age = age \n",
    "    \n",
    "    def __enter__(self):\n",
    "        print('begin')\n",
    "        return\n",
    "\n",
    "    def __exit__(self, exc_type, exc_val, exc_tb):\n",
    "        print('over')\n",
    "\n",
    "obj = Foo('张三', 12)\n",
    "with obj as f:\n",
    "    print(123)"
   ]
  },
  {
   "attachments": {},
   "cell_type": "markdown",
   "metadata": {},
   "source": [
    "- __add__： 自定义加"
   ]
  },
  {
   "cell_type": "code",
   "execution_count": 39,
   "metadata": {},
   "outputs": [
    {
     "name": "stdout",
     "output_type": "stream",
     "text": [
      "47\n"
     ]
    }
   ],
   "source": [
    "class Foo:\n",
    "    def __init__(self, name, age) -> None:\n",
    "        self.name = name\n",
    "        self.age = age \n",
    "    \n",
    "    def __add__(self, other):\n",
    "        return self.age + other.age\n",
    "    \n",
    "f1 = Foo('1', 12)\n",
    "f2 = Foo('2', 35)\n",
    "\n",
    "data = f1 + f2\n",
    "print(data)"
   ]
  }
 ],
 "metadata": {
  "kernelspec": {
   "display_name": "base",
   "language": "python",
   "name": "python3"
  },
  "language_info": {
   "codemirror_mode": {
    "name": "ipython",
    "version": 3
   },
   "file_extension": ".py",
   "mimetype": "text/x-python",
   "name": "python",
   "nbconvert_exporter": "python",
   "pygments_lexer": "ipython3",
   "version": "3.8.5"
  },
  "orig_nbformat": 4,
  "vscode": {
   "interpreter": {
    "hash": "8fcbf216df88cf838eaa28c21976e01ea29b871b319ac777d141b1dab9ab1591"
   }
  }
 },
 "nbformat": 4,
 "nbformat_minor": 2
}
