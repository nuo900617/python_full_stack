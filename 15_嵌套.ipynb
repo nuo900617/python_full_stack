{
 "cells": [
  {
   "cell_type": "code",
   "execution_count": 3,
   "metadata": {},
   "outputs": [],
   "source": [
    "class Student:\n",
    "    def __init__(self, name, age):\n",
    "        self.name = name \n",
    "        self.age = age\n",
    "    \n",
    "s1 = Student('张三', 12)\n",
    "s2 = Student('赵四', 13)\n",
    "s3 = Student('王五', 14)"
   ]
  },
  {
   "cell_type": "code",
   "execution_count": 2,
   "metadata": {},
   "outputs": [],
   "source": [
    "class Cls:\n",
    "    def __init__(self, title):\n",
    "        self.title = title\n",
    "        self.stu_list = []\n",
    "    \n",
    "c1 = Cls('三年级')\n",
    "c2 = Cls('五年级')"
   ]
  },
  {
   "cell_type": "code",
   "execution_count": 4,
   "metadata": {},
   "outputs": [
    {
     "name": "stdout",
     "output_type": "stream",
     "text": [
      "赵四\n"
     ]
    }
   ],
   "source": [
    "c1.stu_list.append(s1)\n",
    "c1.stu_list.append(s2)\n",
    "print(c1.stu_list[1].name)"
   ]
  }
 ],
 "metadata": {
  "kernelspec": {
   "display_name": "base",
   "language": "python",
   "name": "python3"
  },
  "language_info": {
   "codemirror_mode": {
    "name": "ipython",
    "version": 3
   },
   "file_extension": ".py",
   "mimetype": "text/x-python",
   "name": "python",
   "nbconvert_exporter": "python",
   "pygments_lexer": "ipython3",
   "version": "3.8.5"
  },
  "orig_nbformat": 4,
  "vscode": {
   "interpreter": {
    "hash": "8fcbf216df88cf838eaa28c21976e01ea29b871b319ac777d141b1dab9ab1591"
   }
  }
 },
 "nbformat": 4,
 "nbformat_minor": 2
}
