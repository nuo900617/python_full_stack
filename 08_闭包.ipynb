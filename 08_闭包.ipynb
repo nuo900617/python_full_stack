{
 "cells": [
  {
   "attachments": {},
   "cell_type": "markdown",
   "metadata": {},
   "source": [
    "# 闭包\n",
    "闭包就是外部函数中定义一个内部函数，内部函数引用外部函数中的变量，外部函数的返回值是内部函数"
   ]
  },
  {
   "cell_type": "code",
   "execution_count": null,
   "metadata": {},
   "outputs": [],
   "source": [
    "def outer():\n",
    "    v = 111\n",
    "    def inner():\n",
    "        print(v)\n",
    "    return inner"
   ]
  },
  {
   "attachments": {},
   "cell_type": "markdown",
   "metadata": {},
   "source": [
    "## 作用\n",
    "1. 闭包是将外层函数内的局部变量和外层函数的外部连接起来的一座桥梁，读取函数内部的变量。\n",
    "2. 将外层函数的变量持久地保存在内存中。"
   ]
  },
  {
   "attachments": {},
   "cell_type": "markdown",
   "metadata": {},
   "source": [
    "## 特征:\n",
    "1. 嵌套函数\n",
    "2. 内层函数引用了外层函数的变量\n",
    "3. 内层函数作为返回值返回给外层函数"
   ]
  },
  {
   "cell_type": "code",
   "execution_count": 6,
   "metadata": {},
   "outputs": [
    {
     "name": "stdout",
     "output_type": "stream",
     "text": [
      "[10]\n",
      "10\n",
      "[10, 20]\n",
      "30\n",
      "[10, 20, 30]\n",
      "60\n"
     ]
    },
    {
     "data": {
      "text/plain": [
       "(<cell at 0x000001F86B9F8220: list object at 0x000001F86BE8D0C0>,)"
      ]
     },
     "execution_count": 6,
     "metadata": {},
     "output_type": "execute_result"
    }
   ],
   "source": [
    "def outer_summary():\n",
    "    sum_data = []\n",
    "    def summary(num):\n",
    "        sum_data.append(num)\n",
    "        print(sum_data)\n",
    "        print(sum(sum_data))\n",
    "    return summary\n",
    "    \n",
    "summary = outer_summary()\n",
    "summary(10)\n",
    "summary(20)\n",
    "summary(30)\n",
    "summary.__closure__"
   ]
  },
  {
   "attachments": {},
   "cell_type": "markdown",
   "metadata": {},
   "source": [
    "## 总结\n",
    "局部变量无法共享和长久的保存，而全局变量可能造成变量污染，闭包既可以长久的保存变量又不会造成全局污染。  \n",
    "闭包使得函数内局部变量的值始终保持在内存中，不会在外层函数调用后被自动清除。  \n",
    "当外层函数返回了内层函数后，外层函数的局部变量还被内层函数引用。  \n",
    "带参数的装饰器，那么一般都会生成闭包。  \n",
    "闭包在爬虫以及web应用中都有很广泛的应用。  "
   ]
  }
 ],
 "metadata": {
  "kernelspec": {
   "display_name": "base",
   "language": "python",
   "name": "python3"
  },
  "language_info": {
   "codemirror_mode": {
    "name": "ipython",
    "version": 3
   },
   "file_extension": ".py",
   "mimetype": "text/x-python",
   "name": "python",
   "nbconvert_exporter": "python",
   "pygments_lexer": "ipython3",
   "version": "3.8.5"
  },
  "orig_nbformat": 4,
  "vscode": {
   "interpreter": {
    "hash": "8fcbf216df88cf838eaa28c21976e01ea29b871b319ac777d141b1dab9ab1591"
   }
  }
 },
 "nbformat": 4,
 "nbformat_minor": 2
}
