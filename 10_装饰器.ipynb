{
 "cells": [
  {
   "attachments": {},
   "cell_type": "markdown",
   "metadata": {},
   "source": [
    "# 装饰器\n",
    "- 嵌套 + 闭包  \n",
    "- @xx语法"
   ]
  },
  {
   "attachments": {},
   "cell_type": "markdown",
   "metadata": {},
   "source": [
    "## 不带参数的装饰器"
   ]
  },
  {
   "cell_type": "code",
   "execution_count": 7,
   "metadata": {},
   "outputs": [
    {
     "name": "stdout",
     "output_type": "stream",
     "text": [
      "222\n",
      "123\n",
      "999\n"
     ]
    }
   ],
   "source": [
    "def outer(func):\n",
    "    def inner():\n",
    "        print(222)\n",
    "        res = func()\n",
    "        return res \n",
    "    return inner\n",
    "\n",
    "@outer\n",
    "def show():\n",
    "    print(123)\n",
    "    return 999\n",
    "\n",
    "v1 = show()\n",
    "print(v1)"
   ]
  },
  {
   "cell_type": "code",
   "execution_count": 11,
   "metadata": {},
   "outputs": [
    {
     "name": "stdout",
     "output_type": "stream",
     "text": [
      "cost time:  0.0\n",
      "cost time:  0.0\n"
     ]
    }
   ],
   "source": [
    "import time\n",
    "\n",
    "\n",
    "def timer(func):\n",
    "    def inner():\n",
    "        t1 = time.time()\n",
    "        v = func()\n",
    "        t2 = time.time()\n",
    "        print('cost time: ', t2-t1)\n",
    "        return v\n",
    "    return inner\n",
    "\n",
    "@timer\n",
    "def f1():\n",
    "    count = 0\n",
    "    for i in range(10000):\n",
    "        count += 1\n",
    "\n",
    "    \n",
    "@timer  \n",
    "def f2():\n",
    "    v3 = 10000 + 1000\n",
    "\n",
    "\n",
    "f1()\n",
    "f2()"
   ]
  },
  {
   "attachments": {},
   "cell_type": "markdown",
   "metadata": {},
   "source": [
    "## 带参数的装饰器"
   ]
  },
  {
   "cell_type": "code",
   "execution_count": 14,
   "metadata": {},
   "outputs": [
    {
     "name": "stdout",
     "output_type": "stream",
     "text": [
      "None\n"
     ]
    }
   ],
   "source": [
    "import os\n",
    "\n",
    "\n",
    "def check_file(func):\n",
    "    def inner(file_path):\n",
    "        if not os.path.exists(file_path):\n",
    "            return None\n",
    "        v = func(file_path)\n",
    "        return v\n",
    "    return inner \n",
    "\n",
    "\n",
    "@check_file\n",
    "def read_info(file_path):\n",
    "    f = open(file_path, mode='r', encoding='utf-8')\n",
    "    data = f.read()\n",
    "    f.close()\n",
    "    return data \n",
    "\n",
    "\n",
    "value = read_info('db.txt')\n",
    "print(value)"
   ]
  },
  {
   "cell_type": "code",
   "execution_count": 2,
   "metadata": {},
   "outputs": [
    {
     "name": "stdout",
     "output_type": "stream",
     "text": [
      "2s延时结束\n",
      "延时后再执行\n"
     ]
    }
   ],
   "source": [
    "import time\n",
    "\n",
    "class Decorator:\n",
    "    def __init__(self, func):\n",
    "        self.func = func\n",
    "        \n",
    "    def defer_time(self, time_sec):\n",
    "        time.sleep(time_sec)\n",
    "        print(f'{time_sec}s延时结束')\n",
    "        \n",
    "    def __call__(self, time):\n",
    "        self.defer_time(time)\n",
    "        self.func()\n",
    "    \n",
    "@Decorator\n",
    "def f1():\n",
    "    print('延时后再执行')\n",
    "    \n",
    "    \n",
    "f1(2)"
   ]
  }
 ],
 "metadata": {
  "kernelspec": {
   "display_name": "base",
   "language": "python",
   "name": "python3"
  },
  "language_info": {
   "codemirror_mode": {
    "name": "ipython",
    "version": 3
   },
   "file_extension": ".py",
   "mimetype": "text/x-python",
   "name": "python",
   "nbconvert_exporter": "python",
   "pygments_lexer": "ipython3",
   "version": "3.8.5"
  },
  "orig_nbformat": 4,
  "vscode": {
   "interpreter": {
    "hash": "8fcbf216df88cf838eaa28c21976e01ea29b871b319ac777d141b1dab9ab1591"
   }
  }
 },
 "nbformat": 4,
 "nbformat_minor": 2
}
