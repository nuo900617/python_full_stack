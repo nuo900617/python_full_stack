{
 "cells": [
  {
   "attachments": {},
   "cell_type": "markdown",
   "metadata": {},
   "source": [
    "# hashlib"
   ]
  },
  {
   "cell_type": "code",
   "execution_count": 9,
   "metadata": {},
   "outputs": [
    {
     "name": "stdout",
     "output_type": "stream",
     "text": [
      "fa5d54d2f58cfe2bdf8df1f266a3fb75\n"
     ]
    }
   ],
   "source": [
    "import hashlib \n",
    "\n",
    "data = 'vivie'\n",
    "\n",
    "obj = hashlib.md5()\n",
    "obj.update(data.encode('utf-8'))\n",
    "res = obj.hexdigest()\n",
    "print(res)"
   ]
  },
  {
   "cell_type": "code",
   "execution_count": 10,
   "metadata": {},
   "outputs": [
    {
     "name": "stdout",
     "output_type": "stream",
     "text": [
      "{\"name\": \"你好\"}\n"
     ]
    }
   ],
   "source": [
    "# 中文序列化\n",
    "import json \n",
    "\n",
    "info = {'name': '你好'}\n",
    "res = json.dumps(info, ensure_ascii=False)\n",
    "print(res)"
   ]
  },
  {
   "attachments": {},
   "cell_type": "markdown",
   "metadata": {},
   "source": [
    "# 序列化支持类型\n",
    "1. dict              >>>  object\n",
    "2. list, tuple       >>>  array\n",
    "3. str               >>>  string\n",
    "4. int, float        >>>  number\n",
    "5. True              >>>  true\n",
    "6. False             >>>  false\n",
    "7. None              >>>  null"
   ]
  }
 ],
 "metadata": {
  "kernelspec": {
   "display_name": "base",
   "language": "python",
   "name": "python3"
  },
  "language_info": {
   "codemirror_mode": {
    "name": "ipython",
    "version": 3
   },
   "file_extension": ".py",
   "mimetype": "text/x-python",
   "name": "python",
   "nbconvert_exporter": "python",
   "pygments_lexer": "ipython3",
   "version": "3.8.5 (default, Sep  3 2020, 21:29:08) [MSC v.1916 64 bit (AMD64)]"
  },
  "orig_nbformat": 4,
  "vscode": {
   "interpreter": {
    "hash": "8fcbf216df88cf838eaa28c21976e01ea29b871b319ac777d141b1dab9ab1591"
   }
  }
 },
 "nbformat": 4,
 "nbformat_minor": 2
}
