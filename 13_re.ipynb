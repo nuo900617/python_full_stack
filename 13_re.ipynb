{
 "cells": [
  {
   "cell_type": "code",
   "execution_count": null,
   "metadata": {},
   "outputs": [],
   "source": [
    "'''\n",
    "数据解析\n",
    "\n",
    "1. re解析\n",
    "2. bs4解析\n",
    "3. xpath解析\n",
    "4. pyquery解析\n",
    "\n",
    "元字符：具有固定含义的特殊符号\n",
    "\n",
    ".  -> 匹配除了换行符以外的所有字符(不能匹配换行符)  \n",
    "\\w -> 匹配字母、数字、下划线  \n",
    "\\s -> 匹配任意的空白符  \n",
    "\\d -> 匹配数字  \n",
    "\\n -> 匹配一个换行符  \n",
    "\\t -> 匹配一个制表符  \n",
    "^  -> 匹配字符串的开始  \n",
    "$  -> 匹配字符串的结尾  \n",
    "\n",
    "\\W -> 匹配非数字或字母或下划线  \n",
    "\\D -> 匹配非数字  \n",
    "\\S -> 匹配非空白符  \n",
    "a|b -> 匹配字符a或字符b  \n",
    "() -> 匹配括号内的表达式, 也表示一个组  \n",
    "[...] -> 匹配字符组(中括号中字符是否出现过)    [a-zA-Z0-9] 匹配数字和字母  \n",
    "[^...] -> 匹配除了字符组以外的内容  \n",
    "\n",
    "量词: 控制前面字符出现的次数 (前面的元字符)\n",
    "\n",
    "* -> 重复零次或更多次  \n",
    "+ -> 重复一次或更多次  \n",
    "? -> 重复零次或一次  \n",
    "{n} -> 重复n次                       \\d{11}  11个数字  \n",
    "{n,} -> 重复n次或更多次  \n",
    "{n,m} -> 重复n到m次  \n",
    "\n",
    "贪婪匹配  .*  \n",
    "惰性匹配  .*?                <div>.*?</div>\n",
    "'''"
   ]
  },
  {
   "cell_type": "code",
   "execution_count": null,
   "metadata": {},
   "outputs": [],
   "source": [
    "import re\n",
    "\n",
    "def main():\n",
    "    input_ = '我是一个abcdefg, 我今年18岁, 我有200块'\n",
    "    \n",
    "    res = re.findall(r\"\\d+\", input_)\n",
    "    print(res)\n",
    "    \n",
    "    result = re.finditer(r'\\d+', input_)\n",
    "    for res in result:\n",
    "        print(res.group())\n",
    "    \n",
    "    # search只匹配第一次找到的内容\n",
    "    result = re.search(r'\\d+', input_)\n",
    "    print(result.group())\n",
    "\n",
    "    # match是从字符串的开头进行匹配，类似在正则前面加^\n",
    "    result = re.match(r'\\d+', input_)\n",
    "    print(result)\n",
    "\n",
    "    # 预加载，提前把正则对象加载完毕\n",
    "    obj = re.compile(r'\\d+')\n",
    "    result = obj.findall(input_)\n",
    "    print(result)\n",
    "\n",
    "    s = \"\"\"\n",
    "        <div class='西游记'><span id='10010'>中国联通</span></div>\n",
    "        <div class='西游记'><span id='10086'>中国移动</span></div>\n",
    "    \"\"\"\n",
    "    obj = re.compile(r\"<span id='\\d+'>.*?</span>\")\n",
    "    result = obj.findall(s)\n",
    "    print(result)\n",
    "    \n",
    "    # 想要提取数据必须用小括号括起来，可以单独起名字\n",
    "    # 提取数据时，需要group(\"名字\")\n",
    "    obj = re.compile(r\"<span id='(\\d+)'>(.*?)</span>\")\n",
    "    result = obj.findall(s)\n",
    "    print(result)\n",
    "    obj = re.compile(r\"<span id='(?P<id>\\d+)'>(?P<name>.*?)</span>\")\n",
    "    result = obj.finditer(s)\n",
    "    for res in result:\n",
    "        print(res.group('id'))\n",
    "        print(res.group('name'))\n",
    "\n",
    "\n",
    "if __name__ == '__main__':\n",
    "    main()"
   ]
  },
  {
   "cell_type": "code",
   "execution_count": 16,
   "metadata": {},
   "outputs": [
    {
     "name": "stdout",
     "output_type": "stream",
     "text": [
      "有效\n"
     ]
    }
   ],
   "source": [
    "import re\n",
    "\n",
    "email = 'xxxx@126.com'\n",
    "\n",
    "is_valid = re.match(r'^\\w+@\\w+\\.\\w+$', email, re.ASCII)  # re.ASCII, 表示不包含中文\n",
    "if is_valid:\n",
    "    print('有效')\n",
    "else:\n",
    "    print('错误')"
   ]
  },
  {
   "attachments": {},
   "cell_type": "markdown",
   "metadata": {},
   "source": [
    "## 字符相关\n",
    "- 固定文本\n",
    "    - re.findall('wupeiqi', text)\n",
    "- 含特定字符，以abi为例\n",
    "    - re.findall('wupeiq[abi]', text)\n",
    "    - re.findall('wupeiq[a-z0-9]', text)\n",
    "- 一个数字\n",
    "    - re.findall('t\\d', text)\n",
    "- 两个数字\n",
    "    - re.findall('t\\d{2}', text)\n",
    "- 两个数字或多个数字\n",
    "    - re.findall('t\\d{2,}', text)\n",
    "- '？'>>> 0个或1个\n",
    "- '+' >>> 1个或n个\n",
    "- '*' >>> 0个或n个\n",
    "- '\\w' >>> 字母、数字、下划线（汉字）\n",
    "- '.' >>> 除了换行以外任意字符 （'\\w'无法表示空格, '.'可以表示空格）\n",
    "- 分组: 括号\n",
    "    - re.findall('1234(\\d{5})', text)\n",
    "- | >>> 表示或\n",
    "- ^ >>> 起始符\n",
    "- $ >>> 终止符\n",
    "\n",
    "\n",
    "\n",
    "\n",
    "\n",
    "\n",
    "\n"
   ]
  },
  {
   "cell_type": "code",
   "execution_count": 5,
   "metadata": {},
   "outputs": [
    {
     "name": "stdout",
     "output_type": "stream",
     "text": [
      "['wupeiqi', 'wupeiqa']\n"
     ]
    }
   ],
   "source": [
    "# 特定字符\n",
    "import re \n",
    "\n",
    "text = '你好wupeiqi,asldjflkds大量时间法律上 wupeiqasdldkfjds'\n",
    "\n",
    "data_list = re.findall('wupeiq[abi]', text)\n",
    "print(data_list)"
   ]
  },
  {
   "cell_type": "code",
   "execution_count": 7,
   "metadata": {},
   "outputs": [
    {
     "name": "stdout",
     "output_type": "stream",
     "text": [
      "['wupeiq5', 'wupeiqa']\n"
     ]
    }
   ],
   "source": [
    "# 特定字符\n",
    "import re \n",
    "\n",
    "text = '你好wupeiq5,asldjflkds大量时间法律上 wupeiqasdldkfjds'\n",
    "\n",
    "data_list = re.findall('wupeiq[a-z0-9]', text)\n",
    "print(data_list)"
   ]
  },
  {
   "cell_type": "code",
   "execution_count": 10,
   "metadata": {},
   "outputs": [
    {
     "name": "stdout",
     "output_type": "stream",
     "text": [
      "['t5', 't1']\n"
     ]
    }
   ],
   "source": [
    "# \\d  一个数字\n",
    "import re \n",
    "\n",
    "text = '你好wupeit5,asldjflkts大量时间法t13上 wupeitasdldkfjds'\n",
    "\n",
    "data_list = re.findall('t\\d', text)\n",
    "print(data_list)"
   ]
  },
  {
   "cell_type": "code",
   "execution_count": null,
   "metadata": {},
   "outputs": [],
   "source": [
    "# \\d{2}      2个数字\n",
    "import re \n",
    "\n",
    "text = '你好wupeit5,asldjflkts大量时间法t13上 wupeitasdldkfjds'\n",
    "\n",
    "data_list = re.findall('t\\d{2}', text)\n",
    "print(data_list)"
   ]
  },
  {
   "cell_type": "code",
   "execution_count": 11,
   "metadata": {},
   "outputs": [
    {
     "name": "stdout",
     "output_type": "stream",
     "text": [
      "['t13']\n"
     ]
    }
   ],
   "source": [
    "# \\d{2,}      2个数字或大于2个数字\n",
    "import re \n",
    "\n",
    "text = '你好wupeit5,asldjflkts大量时间法t13上 wupeitasdldkfjds'\n",
    "\n",
    "data_list = re.findall('t\\d{2,}', text)\n",
    "print(data_list)"
   ]
  },
  {
   "cell_type": "code",
   "execution_count": 15,
   "metadata": {},
   "outputs": [
    {
     "name": "stdout",
     "output_type": "stream",
     "text": [
      "['ts大量']\n"
     ]
    }
   ],
   "source": [
    "# \\w\n",
    "\n",
    "import re \n",
    "\n",
    "text = '你好wupeit5,asldjflkts大量时间法t13上 wupeitasdldkfjds'\n",
    "result = re.findall('t\\w大量', text)\n",
    "print(result)"
   ]
  },
  {
   "cell_type": "code",
   "execution_count": null,
   "metadata": {},
   "outputs": [],
   "source": []
  }
 ],
 "metadata": {
  "kernelspec": {
   "display_name": "base",
   "language": "python",
   "name": "python3"
  },
  "language_info": {
   "codemirror_mode": {
    "name": "ipython",
    "version": 3
   },
   "file_extension": ".py",
   "mimetype": "text/x-python",
   "name": "python",
   "nbconvert_exporter": "python",
   "pygments_lexer": "ipython3",
   "version": "3.8.5 (default, Sep  3 2020, 21:29:08) [MSC v.1916 64 bit (AMD64)]"
  },
  "orig_nbformat": 4,
  "vscode": {
   "interpreter": {
    "hash": "8fcbf216df88cf838eaa28c21976e01ea29b871b319ac777d141b1dab9ab1591"
   }
  }
 },
 "nbformat": 4,
 "nbformat_minor": 2
}
