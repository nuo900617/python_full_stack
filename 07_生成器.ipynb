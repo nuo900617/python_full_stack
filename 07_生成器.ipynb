{
 "cells": [
  {
   "attachments": {},
   "cell_type": "markdown",
   "metadata": {},
   "source": [
    "# 生成器\n",
    "\\_\\_next\\_\\_ 遇到yield停止\n",
    "\n",
    "range(100000) 就是生成器原理\n"
   ]
  },
  {
   "cell_type": "code",
   "execution_count": 6,
   "metadata": {},
   "outputs": [
    {
     "name": "stdout",
     "output_type": "stream",
     "text": [
      "<generator object func at 0x000002197FBB4D60>\n",
      "123\n",
      "1\n",
      "456\n",
      "2\n",
      "789\n",
      "3\n"
     ]
    }
   ],
   "source": [
    "def func():\n",
    "    print(123)\n",
    "    yield 1\n",
    "    print(456)\n",
    "    yield 2\n",
    "    print(789)\n",
    "    yield 3\n",
    "\n",
    "v1 = func()\n",
    "print(v1)\n",
    "s1 = v1.__next__()\n",
    "print(s1)\n",
    "s2 = v1.__next__()\n",
    "print(s2)\n",
    "s3 = v1.__next__()\n",
    "print(s3)\n",
    "# s4 = v1.__next__()\n",
    "# print(s4)\n",
    "# StopIteration"
   ]
  },
  {
   "cell_type": "code",
   "execution_count": 7,
   "metadata": {},
   "outputs": [
    {
     "name": "stdout",
     "output_type": "stream",
     "text": [
      "123\n",
      "1\n",
      "456\n",
      "2\n",
      "789\n",
      "3\n"
     ]
    }
   ],
   "source": [
    "def func():\n",
    "    print(123)\n",
    "    yield 1\n",
    "    print(456)\n",
    "    yield 2\n",
    "    print(789)\n",
    "    yield 3\n",
    "\n",
    "v1 = func()\n",
    "for iter in v1:\n",
    "    print(iter)"
   ]
  },
  {
   "cell_type": "code",
   "execution_count": 9,
   "metadata": {},
   "outputs": [
    {
     "name": "stdout",
     "output_type": "stream",
     "text": [
      "0\n",
      "1\n",
      "2\n",
      "3\n",
      "4\n",
      "5\n",
      "6\n",
      "7\n",
      "8\n",
      "9\n"
     ]
    }
   ],
   "source": [
    "def gen_big_data(max_num):\n",
    "    num = 0\n",
    "    while num < max_num:\n",
    "        yield num\n",
    "        num += 1\n",
    "    \n",
    "f = gen_big_data(10)\n",
    "for item in f:\n",
    "    print(item)\n",
    "    \n",
    "    "
   ]
  }
 ],
 "metadata": {
  "kernelspec": {
   "display_name": "base",
   "language": "python",
   "name": "python3"
  },
  "language_info": {
   "codemirror_mode": {
    "name": "ipython",
    "version": 3
   },
   "file_extension": ".py",
   "mimetype": "text/x-python",
   "name": "python",
   "nbconvert_exporter": "python",
   "pygments_lexer": "ipython3",
   "version": "3.8.5"
  },
  "orig_nbformat": 4,
  "vscode": {
   "interpreter": {
    "hash": "8fcbf216df88cf838eaa28c21976e01ea29b871b319ac777d141b1dab9ab1591"
   }
  }
 },
 "nbformat": 4,
 "nbformat_minor": 2
}
