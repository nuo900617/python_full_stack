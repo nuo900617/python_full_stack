{
 "cells": [
  {
   "attachments": {},
   "cell_type": "markdown",
   "metadata": {},
   "source": [
    "## 1. 默认参数\n",
    "函数的默认参数中出现了`可变类型`一定要谨慎（list/dict）  \n",
    "注意：**默认调用时，不是每次都创建一个a2，而是都用同一个a2；如果传参数了，就用传入的值。**"
   ]
  },
  {
   "cell_type": "code",
   "execution_count": 4,
   "metadata": {},
   "outputs": [
    {
     "name": "stdout",
     "output_type": "stream",
     "text": [
      "[2]\n",
      "[1, 2]\n",
      "[2, 2]\n"
     ]
    }
   ],
   "source": [
    "def func(a2=[]):\n",
    "    a2.append(2)\n",
    "    print(a2)\n",
    "    \n",
    "func() #[2]\n",
    "func([1,]) #[1, 2]\n",
    "func() #[2, 2]"
   ]
  },
  {
   "attachments": {},
   "cell_type": "markdown",
   "metadata": {},
   "source": [
    "\n",
    "# 2. 内置函数（重要）\n",
    "- open\n",
    "- len\n",
    "- range"
   ]
  },
  {
   "attachments": {},
   "cell_type": "markdown",
   "metadata": {},
   "source": [
    "## 2.1 第一组（5个）\n",
    "- abs, 绝对值\n",
    "    - abs(-10)\n",
    "- pow, 次方\n",
    "    - pow(2, 5) # 2的5次方\n",
    "    - 2**5\n",
    "- sum, 求和\n",
    "    - data = [11, 22, 33]\n",
    "    - sum(data)\n",
    "- divmod, 两个数相除得到商和余数\n",
    "    - v1, v2 = divmod(98, 10) # v1: 商， v2：余数\n",
    "- round, 保留小数后几位"
   ]
  },
  {
   "attachments": {},
   "cell_type": "markdown",
   "metadata": {},
   "source": [
    "# 2.2 第二组（4个）\n",
    "- min, 取最小值\n",
    "- max, 取最大值\n",
    "- all, 检测元素是否都是True(类型转换为布尔值)\n",
    "    - v1 = [1,2,3,4,5,0,\"\"]\n",
    "    - all(v1)  # False\n",
    "- any, 检测元素是否包含True\n",
    "    - v1 = [11, 22,33]\n",
    "    - any(v1)  # True"
   ]
  },
  {
   "attachments": {},
   "cell_type": "markdown",
   "metadata": {},
   "source": [
    "# 2.3 第三组（4个）\n",
    "- 十进制和二进制\n",
    "    - 十进制->二进制\n",
    "        - bin(90)\n",
    "    - 二进制->十进制\n",
    "        - int(\"0b1011010\", base=2)\n",
    "- 十进制和八进制\n",
    "    - 十进制->八进制\n",
    "        - oct(90)\n",
    "    - 八进制->十进制\n",
    "        - int(\"0o132\", base=8)\n",
    "- 十进制和十六进制\n",
    "    - 十进制->十六进制\n",
    "        - hex(90)\n",
    "    - 十六进制->十进制\n",
    "        - int(\"0x5a\", base=16)"
   ]
  },
  {
   "cell_type": "code",
   "execution_count": 13,
   "metadata": {},
   "outputs": [
    {
     "name": "stdout",
     "output_type": "stream",
     "text": [
      "0x5a\n",
      "90\n"
     ]
    }
   ],
   "source": [
    "v1 = 90\n",
    "v1_2 = hex(v1)\n",
    "print(v1_2)\n",
    "v1_10 = int(v1_2, base=16)\n",
    "print(v1_10)"
   ]
  },
  {
   "attachments": {},
   "cell_type": "markdown",
   "metadata": {},
   "source": [
    "## 2.4 第四组（2个）\n",
    "- ord('A') # 根据文字获取unicode值：65\n",
    "- chr(65)  # 根据unicode值获取文字：'A'"
   ]
  },
  {
   "cell_type": "code",
   "execution_count": 24,
   "metadata": {},
   "outputs": [
    {
     "name": "stdout",
     "output_type": "stream",
     "text": [
      "ATGTO\n"
     ]
    }
   ],
   "source": [
    "# 随机验证码\n",
    "import random\n",
    "random_list = []\n",
    "for i in range(5):\n",
    "    num = random.randint(65, 90)\n",
    "    random_list.append(chr(num))\n",
    "random_num = \"\".join(random_list)\n",
    "print(random_num)"
   ]
  },
  {
   "attachments": {},
   "cell_type": "markdown",
   "metadata": {},
   "source": [
    "## 2.5 第五组（8个）\n",
    "- int\n",
    "- str\n",
    "- bool\n",
    "- list\n",
    "- dict \n",
    "- tuple\n",
    "- float\n",
    "- bytes\n",
    "    - v1.encode('utf-8')\n",
    "    - bytes(v1, encoding='utf-8')"
   ]
  },
  {
   "attachments": {},
   "cell_type": "markdown",
   "metadata": {},
   "source": [
    "## 2.6 第六组（10个）\n",
    "- len\n",
    "- print\n",
    "- input\n",
    "- open\n",
    "- range\n",
    "- hash\n",
    "    - 计算值的哈希值（作为键存储）\n",
    "- type \n",
    "    - 查看数据类型\n",
    "- callable\n",
    "    - 判断是否可执行（函数名）\n",
    "- enumerate\n",
    "    - 循环过程中，生成一列值\n",
    "    - for i, d in enumerate(data, 100)  # i从100开始\n",
    "- sorted\n",
    "    - v1 = sorted(num_list, reverse=True)\n"
   ]
  },
  {
   "cell_type": "code",
   "execution_count": 26,
   "metadata": {},
   "outputs": [
    {
     "data": {
      "text/plain": [
       "True"
      ]
     },
     "execution_count": 26,
     "metadata": {},
     "output_type": "execute_result"
    }
   ],
   "source": [
    "v1 = 'func'\n",
    "callable(v1)\n",
    "def v2():\n",
    "    pass \n",
    "callable(v2)"
   ]
  },
  {
   "cell_type": "code",
   "execution_count": 27,
   "metadata": {},
   "outputs": [
    {
     "name": "stdout",
     "output_type": "stream",
     "text": [
      "11\n",
      "22\n",
      "999\n"
     ]
    }
   ],
   "source": [
    "def func():\n",
    "    print(999)\n",
    "\n",
    "data = [11, 22, func]\n",
    "\n",
    "for iter in data:\n",
    "    if callable(iter):\n",
    "        iter()\n",
    "    else:\n",
    "        print(iter)"
   ]
  },
  {
   "cell_type": "code",
   "execution_count": 31,
   "metadata": {},
   "outputs": [
    {
     "name": "stdout",
     "output_type": "stream",
     "text": [
      "['1.', '2.', '3.', '10.', '11.']\n",
      "['1.', '2.', '3.', '10.', '11.']\n"
     ]
    }
   ],
   "source": [
    "# sorted 自定义排序规则\n",
    "data = ['1.', '2.', '3.', '10.', '11.']\n",
    "def func(x):\n",
    "    return int(x.split('.')[0])\n",
    "    \n",
    "v1 = sorted(data, key=func)\n",
    "print(v1)\n",
    "\n",
    "# 匿名函数\n",
    "v1 = sorted(data, key=lambda x:int(x.split('.')[0]))\n",
    "print(v1)"
   ]
  },
  {
   "attachments": {},
   "cell_type": "markdown",
   "metadata": {},
   "source": []
  },
  {
   "attachments": {},
   "cell_type": "markdown",
   "metadata": {},
   "source": [
    "\n",
    "# 生成器\n",
    "\n",
    "\n",
    "# 高阶函数 & 闭包\n",
    "\n",
    "\n",
    "# 装饰器（重要）\n",
    "\n",
    "\n",
    "# 推导式"
   ]
  }
 ],
 "metadata": {
  "kernelspec": {
   "display_name": "base",
   "language": "python",
   "name": "python3"
  },
  "language_info": {
   "codemirror_mode": {
    "name": "ipython",
    "version": 3
   },
   "file_extension": ".py",
   "mimetype": "text/x-python",
   "name": "python",
   "nbconvert_exporter": "python",
   "pygments_lexer": "ipython3",
   "version": "3.8.5"
  },
  "orig_nbformat": 4,
  "vscode": {
   "interpreter": {
    "hash": "8fcbf216df88cf838eaa28c21976e01ea29b871b319ac777d141b1dab9ab1591"
   }
  }
 },
 "nbformat": 4,
 "nbformat_minor": 2
}
